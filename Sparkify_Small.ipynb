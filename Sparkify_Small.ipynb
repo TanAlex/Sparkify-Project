{
 "cells": [
  {
   "cell_type": "markdown",
   "metadata": {},
   "source": [
    "# Sparkify Project Workspace\n",
    "This workspace contains a tiny subset (128MB) of the full dataset available (12GB). Feel free to use this workspace to build your project, or to explore a smaller subset with Spark before deploying your cluster on the cloud. Instructions for setting up your Spark cluster is included in the last lesson of the Extracurricular Spark Course content.\n",
    "\n",
    "You can follow the steps below to guide your data analysis and model building portion of this project."
   ]
  },
  {
   "cell_type": "code",
   "execution_count": 2,
   "metadata": {},
   "outputs": [],
   "source": [
    "# import libraries\n",
    "\n",
    "import numpy as np\n",
    "import pandas as pd\n",
    "from pyspark.sql import SparkSession\n",
    "from pyspark.sql.functions import udf\n",
    "from pyspark.sql import Window\n",
    "from pyspark.sql import functions as F\n",
    "from pyspark.sql.functions import sum as Fsum\n",
    "from pyspark.sql.types import ArrayType, BooleanType, LongType, FloatType, IntegerType\n",
    "from pyspark.sql.functions import lit, udf, struct, countDistinct, collect_list, avg, count, col\n",
    "from pyspark.ml.feature import VectorAssembler, Normalizer, StandardScaler\n",
    "from pyspark.ml.classification import LogisticRegression, RandomForestClassifier, GBTClassifier\n",
    "from pyspark.ml.evaluation import MulticlassClassificationEvaluator, BinaryClassificationEvaluator\n",
    "from pyspark.ml import Pipeline\n",
    "import matplotlib.pyplot as plt\n",
    "from sklearn.metrics import roc_curve\n",
    "from sklearn.metrics import precision_recall_curve\n",
    "from pyspark.ml.tuning import CrossValidator, ParamGridBuilder"
   ]
  },
  {
   "cell_type": "code",
   "execution_count": 3,
   "metadata": {},
   "outputs": [],
   "source": [
    "# create a Spark session\n",
    "spark = SparkSession \\\n",
    "    .builder \\\n",
    "    .appName(\"Sparkify_Project\") \\\n",
    "    .getOrCreate()"
   ]
  },
  {
   "cell_type": "markdown",
   "metadata": {},
   "source": [
    "# Load and Clean Dataset\n",
    "In this workspace, the mini-dataset file is `mini_sparkify_event_data.json`. Load and clean the dataset, checking for invalid or missing data - for example, records without userids or sessionids. "
   ]
  },
  {
   "cell_type": "code",
   "execution_count": 4,
   "metadata": {},
   "outputs": [],
   "source": [
    "# Loading the Data Set\n",
    "\n",
    "df = \"mini_sparkify_event_data.json\"\n",
    "df = spark.read.json(df)\n",
    "\n",
    "# Cleaning the Dataset\n",
    "df = df.drop(*['artist','song','firstName', 'lastName', 'id_copy'])             # dropping some irrelevant columns\n",
    "df = df.dropna(how = 'any', subset = ['userId', 'sessionId'])                   # droppping some potential NA values\n",
    "df = df.filter(df.userId!='').orderBy([\"userId\", \"ts\"], ascending=[True, True]) # filtering out the invalid Ids\n",
    "df = df.withColumn(\"userId\", df[\"userId\"].cast(IntegerType()))                  # case userId column to integer\n",
    " "
   ]
  },
  {
   "cell_type": "markdown",
   "metadata": {},
   "source": [
    "# Exploratory Data Analysis\n",
    "When you're working with the full dataset, perform EDA by loading a small subset of the data and doing basic manipulations within Spark. In this workspace, you are already provided a small subset of data you can explore.\n",
    "\n",
    "### Define Churn\n",
    "\n",
    "Once you've done some preliminary analysis, create a column `Churn` to use as the label for your model. I suggest using the `Cancellation Confirmation` events to define your churn, which happen for both paid and free users. As a bonus task, you can also look into the `Downgrade` events.\n",
    "\n",
    "### Explore Data\n",
    "Once you've defined churn, perform some exploratory data analysis to observe the behavior for users who stayed vs users who churned. You can start by exploring aggregates on these two groups of users, observing how much of a specific action they experienced per a certain time unit or number of songs played."
   ]
  },
  {
   "cell_type": "code",
   "execution_count": 5,
   "metadata": {},
   "outputs": [],
   "source": [
    "# Defining the Churn\n",
    "# These are Customers landing on the Cancellation Confirmation page\n",
    "cancelation = udf(lambda x: 1 if x == \"Cancellation Confirmation\" else 0, IntegerType())  \n",
    "df = df.withColumn(\"churn\", cancelation(\"page\"))\n",
    "window = Window.partitionBy(\"userId\").rangeBetween(Window.unboundedPreceding, Window.unboundedFollowing)\n",
    "df = df.withColumn(\"churn\", Fsum(\"churn\").over(window))\n",
    "\n",
    "\n",
    "##Some new columns were made in this step to make the data exploration easier, the Feature engineering step comes later\n",
    "\n",
    "# Making the level_shift Column\n",
    "# This column tells us how many times did the customer switched from paid to free service\n",
    "window1 = Window.partitionBy().orderBy([\"userId\", \"ts\"])\n",
    "df = df.withColumn(\"level_shift\", (df.level!=F.lag(df.level).over(window1)) | (df.userId!=F.lag(df.userId).over(window1)))\n",
    "df=df.fillna({'level_shift':0})\n",
    "df= df.withColumn(\"level_shift\", F.when(df[\"level_shift\"]==False, 0).otherwise(1))\n",
    "\n",
    "\n",
    "# Making the last_ts column\n",
    "# This column will help us to select only records that happened in the last 2 weeks of customer activity\n",
    "# The idea is that customer behavior should be different shortly before the churn happened\n",
    "\n",
    "df= df.withColumn(\"ts\", df.ts/1000)                        # trimming the last three zeros from the UNIX time (miliseconds)\n",
    "df= df.withColumn(\"registration\", df.registration/1000)\n",
    "\n",
    "window2 = Window.partitionBy(\"userId\")\n",
    "df= df.withColumn(\"last_ts\", F.max('ts').over(window2))\n",
    "df=df.filter(df.last_ts - df.ts < 1300000) #2592000         # this is the approx number of seconds in a 2 week period\n",
    "\n",
    "\n",
    "# Making the Columns: pages_per_session, diff_time\n",
    "# pages_per_session is number of pages per session\n",
    "# diff_time is a number of days since a specific page was visited\n",
    "\n",
    "window3 = Window.partitionBy([\"userId\", \"sessionId\"])\n",
    "df= df.withColumn(\"pages_per_session\", F.max('ItemInSession').over(window3))\n",
    "df = df.withColumn(\"ts_time\",F.to_timestamp(df.ts))                    #  unix to datetime\n",
    "df = df.withColumn(\"last_ts_time\",F.to_timestamp(df.last_ts))          # unix to datetime\n",
    "\n",
    "df = df.withColumn(\"diff_time\",F.datediff(df.last_ts_time, df.ts_time))  # how many days ago was the page visited\n",
    "\n",
    "df=df.orderBy([\"userId\", \"ts\"], ascending=[True, True])\n",
    "\n",
    "df.createOrReplaceTempView('data');                                    # Create a Temp Table to be used foe SQL queries"
   ]
  },
  {
   "cell_type": "code",
   "execution_count": 6,
   "metadata": {},
   "outputs": [
    {
     "data": {
      "text/html": [
       "<div>\n",
       "<style scoped>\n",
       "    .dataframe tbody tr th:only-of-type {\n",
       "        vertical-align: middle;\n",
       "    }\n",
       "\n",
       "    .dataframe tbody tr th {\n",
       "        vertical-align: top;\n",
       "    }\n",
       "\n",
       "    .dataframe thead th {\n",
       "        text-align: right;\n",
       "    }\n",
       "</style>\n",
       "<table border=\"1\" class=\"dataframe\">\n",
       "  <thead>\n",
       "    <tr style=\"text-align: right;\">\n",
       "      <th></th>\n",
       "      <th>auth</th>\n",
       "      <th>gender</th>\n",
       "      <th>itemInSession</th>\n",
       "      <th>length</th>\n",
       "      <th>level</th>\n",
       "      <th>location</th>\n",
       "      <th>method</th>\n",
       "      <th>page</th>\n",
       "      <th>registration</th>\n",
       "      <th>sessionId</th>\n",
       "      <th>...</th>\n",
       "      <th>ts</th>\n",
       "      <th>userAgent</th>\n",
       "      <th>userId</th>\n",
       "      <th>churn</th>\n",
       "      <th>level_shift</th>\n",
       "      <th>last_ts</th>\n",
       "      <th>pages_per_session</th>\n",
       "      <th>ts_time</th>\n",
       "      <th>last_ts_time</th>\n",
       "      <th>diff_time</th>\n",
       "    </tr>\n",
       "  </thead>\n",
       "  <tbody>\n",
       "    <tr>\n",
       "      <th>0</th>\n",
       "      <td>Logged In</td>\n",
       "      <td>F</td>\n",
       "      <td>0</td>\n",
       "      <td>250.82730</td>\n",
       "      <td>paid</td>\n",
       "      <td>Raleigh, NC</td>\n",
       "      <td>PUT</td>\n",
       "      <td>NextSong</td>\n",
       "      <td>1.536800e+09</td>\n",
       "      <td>1639</td>\n",
       "      <td>...</td>\n",
       "      <td>1.542150e+09</td>\n",
       "      <td>\"Mozilla/5.0 (Windows NT 6.1; WOW64) AppleWebK...</td>\n",
       "      <td>2</td>\n",
       "      <td>0</td>\n",
       "      <td>0</td>\n",
       "      <td>1.542839e+09</td>\n",
       "      <td>192</td>\n",
       "      <td>2018-11-13 22:51:43</td>\n",
       "      <td>2018-11-21 22:30:04</td>\n",
       "      <td>8</td>\n",
       "    </tr>\n",
       "    <tr>\n",
       "      <th>1</th>\n",
       "      <td>Logged In</td>\n",
       "      <td>F</td>\n",
       "      <td>1</td>\n",
       "      <td>148.55791</td>\n",
       "      <td>paid</td>\n",
       "      <td>Raleigh, NC</td>\n",
       "      <td>PUT</td>\n",
       "      <td>NextSong</td>\n",
       "      <td>1.536800e+09</td>\n",
       "      <td>1639</td>\n",
       "      <td>...</td>\n",
       "      <td>1.542150e+09</td>\n",
       "      <td>\"Mozilla/5.0 (Windows NT 6.1; WOW64) AppleWebK...</td>\n",
       "      <td>2</td>\n",
       "      <td>0</td>\n",
       "      <td>0</td>\n",
       "      <td>1.542839e+09</td>\n",
       "      <td>192</td>\n",
       "      <td>2018-11-13 22:55:53</td>\n",
       "      <td>2018-11-21 22:30:04</td>\n",
       "      <td>8</td>\n",
       "    </tr>\n",
       "  </tbody>\n",
       "</table>\n",
       "<p>2 rows × 21 columns</p>\n",
       "</div>"
      ],
      "text/plain": [
       "        auth gender  itemInSession     length level     location method  \\\n",
       "0  Logged In      F              0  250.82730  paid  Raleigh, NC    PUT   \n",
       "1  Logged In      F              1  148.55791  paid  Raleigh, NC    PUT   \n",
       "\n",
       "       page  registration  sessionId    ...               ts  \\\n",
       "0  NextSong  1.536800e+09       1639    ...     1.542150e+09   \n",
       "1  NextSong  1.536800e+09       1639    ...     1.542150e+09   \n",
       "\n",
       "                                           userAgent userId  churn  \\\n",
       "0  \"Mozilla/5.0 (Windows NT 6.1; WOW64) AppleWebK...      2      0   \n",
       "1  \"Mozilla/5.0 (Windows NT 6.1; WOW64) AppleWebK...      2      0   \n",
       "\n",
       "   level_shift       last_ts  pages_per_session             ts_time  \\\n",
       "0            0  1.542839e+09                192 2018-11-13 22:51:43   \n",
       "1            0  1.542839e+09                192 2018-11-13 22:55:53   \n",
       "\n",
       "         last_ts_time diff_time  \n",
       "0 2018-11-21 22:30:04         8  \n",
       "1 2018-11-21 22:30:04         8  \n",
       "\n",
       "[2 rows x 21 columns]"
      ]
     },
     "execution_count": 6,
     "metadata": {},
     "output_type": "execute_result"
    }
   ],
   "source": [
    "# Data preview\n",
    "\n",
    "df.limit(2).toPandas()"
   ]
  },
  {
   "cell_type": "code",
   "execution_count": 7,
   "metadata": {},
   "outputs": [
    {
     "name": "stdout",
     "output_type": "stream",
     "text": [
      "+--------------------+-----------+\n",
      "|                page|count(page)|\n",
      "+--------------------+-----------+\n",
      "|              Cancel|         52|\n",
      "|    Submit Downgrade|         16|\n",
      "|         Thumbs Down|        917|\n",
      "|                Home|       3701|\n",
      "|           Downgrade|        821|\n",
      "|         Roll Advert|       1308|\n",
      "|              Logout|       1201|\n",
      "|       Save Settings|        126|\n",
      "|Cancellation Conf...|         52|\n",
      "|               About|        183|\n",
      "|            Settings|        607|\n",
      "|     Add to Playlist|       2380|\n",
      "|          Add Friend|       1613|\n",
      "|            NextSong|      85017|\n",
      "|           Thumbs Up|       4479|\n",
      "|                Help|        537|\n",
      "|             Upgrade|        154|\n",
      "|               Error|         80|\n",
      "|      Submit Upgrade|         37|\n",
      "+--------------------+-----------+\n",
      "\n"
     ]
    }
   ],
   "source": [
    "# The column \"page\" seems to be most informative in the whole dataset\n",
    "# It shows which pages of the service were visited by users, timestamp is also provided\n",
    "# This column can be used to engineer useful features\n",
    "\n",
    "df.select('page','UserId').groupby('page').agg({'page':'count'}).select('page','count(page)').show()"
   ]
  },
  {
   "cell_type": "code",
   "execution_count": 8,
   "metadata": {},
   "outputs": [
    {
     "name": "stdout",
     "output_type": "stream",
     "text": [
      "root\n",
      " |-- auth: string (nullable = true)\n",
      " |-- gender: string (nullable = true)\n",
      " |-- itemInSession: long (nullable = true)\n",
      " |-- length: double (nullable = true)\n",
      " |-- level: string (nullable = true)\n",
      " |-- location: string (nullable = true)\n",
      " |-- method: string (nullable = true)\n",
      " |-- page: string (nullable = true)\n",
      " |-- registration: double (nullable = true)\n",
      " |-- sessionId: long (nullable = true)\n",
      " |-- status: long (nullable = true)\n",
      " |-- ts: double (nullable = true)\n",
      " |-- userAgent: string (nullable = true)\n",
      " |-- userId: integer (nullable = true)\n",
      " |-- churn: long (nullable = true)\n",
      " |-- level_shift: integer (nullable = false)\n",
      " |-- last_ts: double (nullable = true)\n",
      " |-- pages_per_session: long (nullable = true)\n",
      " |-- ts_time: timestamp (nullable = true)\n",
      " |-- last_ts_time: timestamp (nullable = true)\n",
      " |-- diff_time: integer (nullable = true)\n",
      "\n"
     ]
    }
   ],
   "source": [
    "df.printSchema();"
   ]
  },
  {
   "cell_type": "code",
   "execution_count": 9,
   "metadata": {},
   "outputs": [
    {
     "data": {
      "text/html": [
       "<div>\n",
       "<style scoped>\n",
       "    .dataframe tbody tr th:only-of-type {\n",
       "        vertical-align: middle;\n",
       "    }\n",
       "\n",
       "    .dataframe tbody tr th {\n",
       "        vertical-align: top;\n",
       "    }\n",
       "\n",
       "    .dataframe thead th {\n",
       "        text-align: right;\n",
       "    }\n",
       "</style>\n",
       "<table border=\"1\" class=\"dataframe\">\n",
       "  <thead>\n",
       "    <tr style=\"text-align: right;\">\n",
       "      <th></th>\n",
       "      <th>label</th>\n",
       "      <th>cnt</th>\n",
       "      <th>song_count</th>\n",
       "      <th>error</th>\n",
       "      <th>friends</th>\n",
       "      <th>playlist_count</th>\n",
       "      <th>thumbs_up</th>\n",
       "      <th>thumbs_down</th>\n",
       "      <th>downgrade</th>\n",
       "      <th>count_session_dist</th>\n",
       "      <th>count_diff_time</th>\n",
       "      <th>pages_per_session</th>\n",
       "      <th>duration</th>\n",
       "      <th>level_shift</th>\n",
       "      <th>usage_time</th>\n",
       "    </tr>\n",
       "  </thead>\n",
       "  <tbody>\n",
       "    <tr>\n",
       "      <th>0</th>\n",
       "      <td>0</td>\n",
       "      <td>173</td>\n",
       "      <td>360.803468</td>\n",
       "      <td>0.335260</td>\n",
       "      <td>7.098266</td>\n",
       "      <td>10.017341</td>\n",
       "      <td>19.132948</td>\n",
       "      <td>3.560694</td>\n",
       "      <td>3.358382</td>\n",
       "      <td>4.583815</td>\n",
       "      <td>4.786127</td>\n",
       "      <td>106.386183</td>\n",
       "      <td>86.620619</td>\n",
       "      <td>0.265896</td>\n",
       "      <td>89989.124825</td>\n",
       "    </tr>\n",
       "    <tr>\n",
       "      <th>1</th>\n",
       "      <td>1</td>\n",
       "      <td>52</td>\n",
       "      <td>434.576923</td>\n",
       "      <td>0.423077</td>\n",
       "      <td>7.403846</td>\n",
       "      <td>12.442308</td>\n",
       "      <td>22.480769</td>\n",
       "      <td>5.788462</td>\n",
       "      <td>4.615385</td>\n",
       "      <td>5.596154</td>\n",
       "      <td>5.480769</td>\n",
       "      <td>92.803856</td>\n",
       "      <td>57.305993</td>\n",
       "      <td>0.730769</td>\n",
       "      <td>108072.679578</td>\n",
       "    </tr>\n",
       "  </tbody>\n",
       "</table>\n",
       "</div>"
      ],
      "text/plain": [
       "   label  cnt  song_count     error   friends  playlist_count  thumbs_up  \\\n",
       "0      0  173  360.803468  0.335260  7.098266       10.017341  19.132948   \n",
       "1      1   52  434.576923  0.423077  7.403846       12.442308  22.480769   \n",
       "\n",
       "   thumbs_down  downgrade  count_session_dist  count_diff_time  \\\n",
       "0     3.560694   3.358382            4.583815         4.786127   \n",
       "1     5.788462   4.615385            5.596154         5.480769   \n",
       "\n",
       "   pages_per_session   duration  level_shift     usage_time  \n",
       "0         106.386183  86.620619     0.265896   89989.124825  \n",
       "1          92.803856  57.305993     0.730769  108072.679578  "
      ]
     },
     "execution_count": 9,
     "metadata": {},
     "output_type": "execute_result"
    }
   ],
   "source": [
    "# Investigation if there are differences between churned and non-churned users\n",
    "\n",
    "# label             - 0 if non_churned, 1 if churned\n",
    "# song_count        - avg number of songs played by churned/non_churned users\n",
    "# error             - avg number of errors occuring \n",
    "# friends           - avg number of \"friends\" on thhe application\n",
    "# playlist_count    - avg number of visits to the Playlist page\n",
    "# thumbs_up         - avg number of clicking the 'thumbs up'\n",
    "# thumbs_down       - avg number of clicking the 'thumbs down'\n",
    "# downgrade         - avg number of visits to the downgrade page\n",
    "# count_session_dist- avg number of sessions made\n",
    "# count_diff_time   - avg number of days (in the last two weeks) in which the user used the app\n",
    "# pages per session - avg numbers of pages (or any activity or changes) per session\n",
    "# duration          - avg number of days since the user joined (division with 86400 as a proxy of seconds within a day)\n",
    "# level_shift       - avg number of level changes (free, paid) per customer\n",
    "# usage_time        - avg total time spent using the app\n",
    "\n",
    "\n",
    "stats = spark.sql(\" WITH prep as( \\\n",
    "SELECT userId, \\\n",
    "max(churn)                                                          as label, \\\n",
    "count(case when page = 'NextSong' then userId else null end)        as song_count, \\\n",
    "count(case when page = 'Error' then userId else null end)           as error, \\\n",
    "count(case when page = 'Add Friend' then userId else null end)      as friends, \\\n",
    "count(case when page = 'Add to Playlist' then userId else null end) as playlist_count, \\\n",
    "count(case when page = 'Thumbs Up' then userId else null end)       as thumbs_up, \\\n",
    "count(case when page = 'Thumbs Down' then userId else null end)     as thumbs_down, \\\n",
    "count(case when page = 'Downgrade' then userId else null end)       as downgrade, \\\n",
    "count(distinct sessionId)                                           as count_session_dist, \\\n",
    "count(distinct diff_time)                                           as count_diff_time, \\\n",
    "avg(distinct pages_per_session)                                     as pages_per_session, \\\n",
    "(max(ts) - min(registration))/86400                                 as duration, \\\n",
    "sum(level_shift)                                                    as level_shift, \\\n",
    "sum(length)                                                         as usage_time \\\n",
    "FROM data \\\n",
    "GROUP BY userId) \\\n",
    "SELECT label, \\\n",
    "count(label)             as cnt, \\\n",
    "avg(song_count)          as song_count, \\\n",
    "avg(error)               as error, \\\n",
    "avg(friends)             as friends, \\\n",
    "avg(playlist_count)      as playlist_count, \\\n",
    "avg(thumbs_up)           as thumbs_up, \\\n",
    "avg(thumbs_down)         as thumbs_down, \\\n",
    "avg(downgrade)           as downgrade, \\\n",
    "avg(count_session_dist)  as count_session_dist, \\\n",
    "avg(count_diff_time)     as count_diff_time, \\\n",
    "avg(pages_per_session)   as pages_per_session, \\\n",
    "avg(duration)            as duration, \\\n",
    "avg (level_shift)        as level_shift, \\\n",
    "avg(usage_time)          as usage_time \\\n",
    "FROM prep \\\n",
    "GROUP BY label\")\n",
    "\n",
    "# We can see that for most dimensions/features there are differences between churned and non-churned users\n",
    "stats.toPandas()"
   ]
  },
  {
   "cell_type": "markdown",
   "metadata": {},
   "source": [
    "# Feature Engineering\n",
    "Once you've familiarized yourself with the data, build out the features you find promising to train your model on. To work with the full dataset, you can follow the following steps.\n",
    "- Write a script to extract the necessary features from the smaller subset of data\n",
    "- Ensure that your script is scalable, using the best practices discussed in Lesson 3\n",
    "- Try your script on the full data set, debugging your script if necessary\n",
    "\n",
    "If you are working in the classroom workspace, you can just extract features based on the small subset of data contained here. Be sure to transfer over this work to the larger dataset when you work on your Spark cluster."
   ]
  },
  {
   "cell_type": "code",
   "execution_count": 14,
   "metadata": {},
   "outputs": [],
   "source": [
    "# Feature Enigneering\n",
    "\n",
    "# Based on the previous analysis, all 14 investigated features will be included. \n",
    "# Here I am making a Temp Table which holds all the features.\n",
    "# The temp table will be used as model input\n",
    "# All data is aggregated per userId\n",
    "\n",
    "\n",
    "features = spark.sql(\"SELECT userId, \\\n",
    "max(churn)                                                          as label, \\\n",
    "count(case when page = 'NextSong' then userId else null end)        as song_count, \\\n",
    "count(case when page = 'Error' then userId else null end)           as error, \\\n",
    "count(case when page = 'Add Friend' then userId else null end)      as friends, \\\n",
    "count(case when page = 'Add to Playlist' then userId else null end) as playlist_count, \\\n",
    "count(case when page = 'Thumbs Up' then userId else null end)       as thumbs_up, \\\n",
    "count(case when page = 'Thumbs Down' then userId else null end)     as thumbs_down, \\\n",
    "count(case when page = 'Downgrade' then userId else null end)       as downgrade, \\\n",
    "count(distinct sessionId)                                           as count_session_dist, \\\n",
    "count(distinct diff_time)                                           as count_diff_time, \\\n",
    "round(avg(distinct pages_per_session),0)                            as pages_per_session, \\\n",
    "round((max(ts) - min(registration))/86400,0)                        as duration, \\\n",
    "round(sum(level_shift),0)                                           as level_shift, \\\n",
    "round(sum(length),0)                                                as usage_time \\\n",
    "FROM data \\\n",
    "GROUP BY userId\");\n",
    "\n",
    "features.createOrReplaceTempView('features');\n",
    "features=features.na.drop()"
   ]
  },
  {
   "cell_type": "markdown",
   "metadata": {},
   "source": [
    "# Modeling\n",
    "Split the full dataset into train, test, and validation sets. Test out several of the machine learning methods you learned. Evaluate the accuracy of the various models, tuning parameters as necessary. Determine your winning model based on test accuracy and report results on the validation set. Since the churned users are a fairly small subset, I suggest using F1 score as the metric to optimize."
   ]
  },
  {
   "cell_type": "code",
   "execution_count": 15,
   "metadata": {},
   "outputs": [],
   "source": [
    "\n",
    "# Train Test Split\n",
    "training, test = features.randomSplit([0.8, 0.2])\n",
    "\n",
    "\n",
    "# Make VectorAssembler - this is a Pypark specific step\n",
    "# All input features must be in one column before feeding into the model\n",
    "\n",
    "assembler = VectorAssembler(inputCols=[\"userId\",\"song_count\",\"error\",\"friends\",\"playlist_count\", \\\n",
    "                                       \"thumbs_up\",\"thumbs_down\",\"downgrade\", \"count_session_dist\",\\\n",
    "                                       \"count_diff_time\",\"pages_per_session\", \"duration\",\"level_shift\",\\\n",
    "                                       \"usage_time\"], \\\n",
    "                            outputCol=\"inputFeatures\")\n",
    "\n",
    "\n",
    "\n",
    "# Normalize Data\n",
    "scaler = Normalizer(inputCol=\"inputFeatures\", outputCol=\"features\")\n",
    "\n",
    "\n",
    "# Spark supports most common classification methods (https://spark.apache.org/docs/latest/ml-classification-regression.html)\n",
    "# I decided for the following three:\n",
    "\n",
    "lr=LogisticRegression()\n",
    "gbt = GBTClassifier()\n",
    "rf= RandomForestClassifier()\n",
    "\n",
    "\n",
    "# Building pipelines\n",
    "pipeline1=Pipeline(stages=[assembler, scaler, lr])\n",
    "pipeline2=Pipeline(stages=[assembler, scaler, gbt])\n",
    "pipeline3=Pipeline(stages=[assembler, scaler, rf])"
   ]
  },
  {
   "cell_type": "markdown",
   "metadata": {},
   "source": [
    "#### Logistic Regresion"
   ]
  },
  {
   "cell_type": "code",
   "execution_count": 16,
   "metadata": {},
   "outputs": [
    {
     "data": {
      "text/plain": [
       "0.7433574879227053"
      ]
     },
     "execution_count": 16,
     "metadata": {},
     "output_type": "execute_result"
    }
   ],
   "source": [
    "# metric chosen is f1 (we want to catch true positives (churn customers), but\n",
    "# we do not want to waste money on false positives (investing in retaining non-churn customers, which are loyal anyway)\n",
    "# Note that Recall might also be justified to use here (if the cost of false positives is low)\n",
    "\n",
    "\n",
    "paramgrid =ParamGridBuilder()\\\n",
    ".addGrid(lr.regParam, [0.0, 0,1])\\\n",
    ".addGrid(lr.maxIter, [10])\\\n",
    ".build()\n",
    "\n",
    "\n",
    "evaluator=MulticlassClassificationEvaluator(metricName=\"f1\")\n",
    "#evaluator=BinaryClassificationEvaluator( metricName=\"areaUnderROC\")\n",
    "\n",
    "# Crossvalidator (https://spark.apache.org/docs/2.1.3/api/python/_modules/pyspark/ml/tuning.html)\n",
    "\n",
    "crossval= CrossValidator(estimator=pipeline1,  \n",
    "                         estimatorParamMaps=paramgrid,\n",
    "                         evaluator = evaluator , \n",
    "                         numFolds=3\n",
    "                        )\n",
    "\n",
    "cvModel1=crossval.fit(training) \n",
    "evaluator.evaluate(cvModel1.transform(test))\n",
    "\n",
    "#cvModel1.subModels() \n",
    "#cvModel1.avgMetrics"
   ]
  },
  {
   "cell_type": "markdown",
   "metadata": {},
   "source": [
    "#### Gradient boosted tree classifier"
   ]
  },
  {
   "cell_type": "code",
   "execution_count": 17,
   "metadata": {},
   "outputs": [
    {
     "data": {
      "text/plain": [
       "0.7719361248773013"
      ]
     },
     "execution_count": 17,
     "metadata": {},
     "output_type": "execute_result"
    }
   ],
   "source": [
    "\n",
    "\n",
    "# Specify multiple parameters in the paramgrid, in case you have enough processing power \n",
    "paramgrid1 =ParamGridBuilder()\\\n",
    ".build()\n",
    "\n",
    "evaluator=MulticlassClassificationEvaluator(metricName=\"f1\")\n",
    "\n",
    "crossval= CrossValidator(estimator=pipeline2,  \n",
    "                         estimatorParamMaps=paramgrid1,\n",
    "                         evaluator=evaluator, \n",
    "                         numFolds=3\n",
    "                        )\n",
    "\n",
    "cvModel2=crossval.fit(training) \n",
    "evaluator.evaluate(cvModel2.transform(test))"
   ]
  },
  {
   "cell_type": "markdown",
   "metadata": {},
   "source": [
    "#### Random Forest"
   ]
  },
  {
   "cell_type": "code",
   "execution_count": 18,
   "metadata": {},
   "outputs": [
    {
     "data": {
      "text/plain": [
       "0.7697849825509401"
      ]
     },
     "execution_count": 18,
     "metadata": {},
     "output_type": "execute_result"
    }
   ],
   "source": [
    "\n",
    "# Specify multiple parameters in the paramgrid, in case you have enough processing power\n",
    "paramgrid2 =ParamGridBuilder()\\\n",
    ".build()\n",
    "\n",
    "evaluator=MulticlassClassificationEvaluator(metricName=\"f1\")\n",
    "#evaluator=BinaryClassificationEvaluator( metricName=\"areaUnderROC\")\n",
    "\n",
    "crossval= CrossValidator(estimator=pipeline3,  \n",
    "                         estimatorParamMaps=paramgrid2,\n",
    "                         evaluator=evaluator, \n",
    "                         numFolds=3\n",
    "                        )\n",
    "\n",
    "cvModel3=crossval.fit(training) \n",
    "evaluator.evaluate(cvModel3.transform(test))"
   ]
  },
  {
   "cell_type": "code",
   "execution_count": 19,
   "metadata": {},
   "outputs": [],
   "source": [
    "predictions=cvModel2.transform(test)\n",
    "#predictions.limit(2).toPandas()"
   ]
  },
  {
   "cell_type": "code",
   "execution_count": 20,
   "metadata": {},
   "outputs": [
    {
     "data": {
      "image/png": "[encoded data removed]",
      "text/plain": [
       "<matplotlib.figure.Figure at 0x7fe694b454e0>"
      ]
     },
     "metadata": {
      "needs_background": "light"
     },
     "output_type": "display_data"
    }
   ],
   "source": [
    "# Gradient Boosted Tree Classifier seems to be the winner model, let us plot its ROC Curve\n",
    " \n",
    "#predictions=cvModel2.transform(test)\n",
    "def roc(ax, predictions, labels, title='ROC curve'):\n",
    "    pp = predictions.toPandas()['probability'].apply(lambda x:x[1]).values\n",
    "    tpr, fpr, _ = roc_curve(labels, pp)\n",
    "    ax.plot(tpr, fpr)\n",
    "    ax.set_facecolor('xkcd:wheat')\n",
    "    ax.set_xlabel('False Positive Rate')\n",
    "    ax.set_ylabel('True Positive Rate')\n",
    "    ax.set_title(title)\n",
    "    \n",
    "#plt.clf() # to be used for AWS EMR\n",
    "\n",
    "labels=predictions.toPandas()['label']\n",
    "fig = plt.figure()\n",
    "ax = fig.add_subplot(111)\n",
    "roc(ax, predictions,labels)\n",
    "\n",
    "#%matplot plt # to be used for AWS EMR"
   ]
  },
  {
   "cell_type": "code",
   "execution_count": 21,
   "metadata": {},
   "outputs": [
    {
     "data": {
      "image/png": "[encoded data removed]",
      "text/plain": [
       "<matplotlib.figure.Figure at 0x7fe694215358>"
      ]
     },
     "metadata": {
      "needs_background": "light"
     },
     "output_type": "display_data"
    }
   ],
   "source": [
    "# Gradient Boosted Tree Classifier seems to be the winner model, let us plot its Precision-Recall Curve\n",
    " \n",
    "predictions=cvModel2.transform(test)\n",
    "def pr(ax, predictions, labels, title='Precision-Recall curve'):\n",
    "    pp = predictions.toPandas()['probability'].apply(lambda x:x[1]).values\n",
    "    pr, rc, _ = precision_recall_curve(labels, pp)\n",
    "    ax.plot(pr, rc)\n",
    "    ax.set_facecolor('xkcd:wheat')\n",
    "    ax.set_xlabel('Recall')\n",
    "    ax.set_ylabel('Precision')\n",
    "    ax.set_title(title)\n",
    "    \n",
    "#plt.clf() # to be used for AWS EMR\n",
    "\n",
    "labels=predictions.toPandas()['label']\n",
    "fig = plt.figure()\n",
    "ax = fig.add_subplot(111)\n",
    "pr(ax, predictions,labels)\n",
    "\n",
    "#%matplot plt # to be used for AWS EMR"
   ]
  },
  {
   "cell_type": "markdown",
   "metadata": {},
   "source": [
    "# Final Steps\n",
    "Clean up your code, adding comments and renaming variables to make the code easier to read and maintain. Refer to the Spark Project Overview page and Data Scientist Capstone Project Rubric to make sure you are including all components of the capstone project and meet all expectations. Remember, this includes thorough documentation in a README file in a Github repository, as well as a web app or blog post."
   ]
  },
  {
   "cell_type": "code",
   "execution_count": null,
   "metadata": {},
   "outputs": [],
   "source": []
  },
  {
   "cell_type": "code",
   "execution_count": null,
   "metadata": {},
   "outputs": [],
   "source": []
  }
 ],
 "metadata": {
  "kernelspec": {
   "display_name": "Python 3",
   "language": "python",
   "name": "python3"
  },
  "language_info": {
   "codemirror_mode": {
    "name": "ipython",
    "version": 3
   },
   "file_extension": ".py",
   "mimetype": "text/x-python",
   "name": "python",
   "nbconvert_exporter": "python",
   "pygments_lexer": "ipython3",
   "version": "3.6.3"
  }
 },
 "nbformat": 4,
 "nbformat_minor": 2
}
