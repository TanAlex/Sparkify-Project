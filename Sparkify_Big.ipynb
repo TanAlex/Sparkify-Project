{
 "cells": [
  {
   "cell_type": "markdown",
   "metadata": {},
   "source": [
    "### Churn Prediction - 12Gb Dataset"
   ]
  },
  {
   "cell_type": "code",
   "execution_count": 1,
   "metadata": {
    "scrolled": true
   },
   "outputs": [
    {
     "data": {
      "application/vnd.jupyter.widget-view+json": {
       "model_id": "7fdb0ef5378b4bdfbd19d70bf6d3068c",
       "version_major": 2,
       "version_minor": 0
      },
      "text/plain": [
       "VBox()"
      ]
     },
     "metadata": {},
     "output_type": "display_data"
    },
    {
     "name": "stdout",
     "output_type": "stream",
     "text": [
      "Starting Spark application\n"
     ]
    },
    {
     "data": {
      "text/html": [
       "<table>\n",
       "<tr><th>ID</th><th>YARN Application ID</th><th>Kind</th><th>State</th><th>Spark UI</th><th>Driver log</th><th>Current session?</th></tr><tr><td>1</td><td>application_1582050126019_0002</td><td>pyspark</td><td>idle</td><td><a target=\"_blank\" href=\"http://ip-172-31-19-23.us-west-2.compute.internal:20888/proxy/application_1582050126019_0002/\">Link</a></td><td><a target=\"_blank\" href=\"http://ip-172-31-23-36.us-west-2.compute.internal:8042/node/containerlogs/container_1582050126019_0002_01_000002/livy\">Link</a></td><td>✔</td></tr></table>"
      ],
      "text/plain": [
       "<IPython.core.display.HTML object>"
      ]
     },
     "metadata": {},
     "output_type": "display_data"
    },
    {
     "data": {
      "application/vnd.jupyter.widget-view+json": {
       "model_id": "",
       "version_major": 2,
       "version_minor": 0
      },
      "text/plain": [
       "FloatProgress(value=0.0, bar_style='info', description='Progress:', layout=Layout(height='25px', width='50%'),…"
      ]
     },
     "metadata": {},
     "output_type": "display_data"
    },
    {
     "name": "stdout",
     "output_type": "stream",
     "text": [
      "SparkSession available as 'spark'.\n"
     ]
    },
    {
     "data": {
      "application/vnd.jupyter.widget-view+json": {
       "model_id": "",
       "version_major": 2,
       "version_minor": 0
      },
      "text/plain": [
       "FloatProgress(value=0.0, bar_style='info', description='Progress:', layout=Layout(height='25px', width='50%'),…"
      ]
     },
     "metadata": {},
     "output_type": "display_data"
    },
    {
     "name": "stdout",
     "output_type": "stream",
     "text": [
      "Collecting pandas==0.25.1\n",
      "  Using cached pandas-0.25.1-cp36-cp36m-manylinux1_x86_64.whl (10.5 MB)\n",
      "Collecting python-dateutil>=2.6.1\n",
      "  Using cached python_dateutil-2.8.1-py2.py3-none-any.whl (227 kB)\n",
      "Requirement already satisfied: numpy>=1.13.3 in /usr/local/lib64/python3.6/site-packages (from pandas==0.25.1) (1.14.5)\n",
      "Requirement already satisfied: pytz>=2017.2 in /usr/local/lib/python3.6/site-packages (from pandas==0.25.1) (2019.3)\n",
      "Requirement already satisfied: six>=1.5 in /usr/local/lib/python3.6/site-packages (from python-dateutil>=2.6.1->pandas==0.25.1) (1.13.0)\n",
      "Installing collected packages: python-dateutil, pandas\n",
      "Successfully installed pandas-0.25.1 python-dateutil-2.8.1\n",
      "\n",
      "Collecting matplotlib\n",
      "  Using cached matplotlib-3.1.3-cp36-cp36m-manylinux1_x86_64.whl (13.1 MB)\n",
      "Collecting pyparsing!=2.0.4,!=2.1.2,!=2.1.6,>=2.0.1\n",
      "  Using cached pyparsing-2.4.6-py2.py3-none-any.whl (67 kB)\n",
      "Requirement already satisfied: numpy>=1.11 in /usr/local/lib64/python3.6/site-packages (from matplotlib) (1.14.5)\n",
      "Requirement already satisfied: python-dateutil>=2.1 in /mnt/tmp/1582051202894-0/lib/python3.6/site-packages (from matplotlib) (2.8.1)\n",
      "Collecting kiwisolver>=1.0.1\n",
      "  Using cached kiwisolver-1.1.0-cp36-cp36m-manylinux1_x86_64.whl (90 kB)\n",
      "Collecting cycler>=0.10\n",
      "  Using cached cycler-0.10.0-py2.py3-none-any.whl (6.5 kB)\n",
      "Requirement already satisfied: six>=1.5 in /usr/local/lib/python3.6/site-packages (from python-dateutil>=2.1->matplotlib) (1.13.0)\n",
      "Requirement already satisfied: setuptools in /mnt/tmp/1582051202894-0/lib/python3.6/site-packages (from kiwisolver>=1.0.1->matplotlib) (45.2.0)\n",
      "Installing collected packages: pyparsing, kiwisolver, cycler, matplotlib\n",
      "Successfully installed cycler-0.10.0 kiwisolver-1.1.0 matplotlib-3.1.3 pyparsing-2.4.6\n",
      "\n",
      "Collecting scikit-learn\n",
      "  Using cached scikit_learn-0.22.1-cp36-cp36m-manylinux1_x86_64.whl (7.0 MB)\n",
      "Collecting scipy>=0.17.0\n",
      "  Using cached scipy-1.4.1-cp36-cp36m-manylinux1_x86_64.whl (26.1 MB)\n",
      "Collecting joblib>=0.11\n",
      "  Using cached joblib-0.14.1-py2.py3-none-any.whl (294 kB)\n",
      "Requirement already satisfied: numpy>=1.11.0 in /usr/local/lib64/python3.6/site-packages (from scikit-learn) (1.14.5)\n",
      "Installing collected packages: scipy, joblib, scikit-learn\n",
      "Successfully installed joblib-0.14.1 scikit-learn-0.22.1 scipy-1.4.1"
     ]
    }
   ],
   "source": [
    "# Install and import libraries\n",
    "\n",
    "sc.install_pypi_package(\"pandas==0.25.1\") \n",
    "sc.install_pypi_package(\"matplotlib\", \"https://pypi.org/simple\")\n",
    "sc.install_pypi_package(\"scikit-learn\")\n",
    "\n",
    "import numpy as np\n",
    "import pandas as pd\n",
    "from pyspark.sql import SparkSession\n",
    "from pyspark.sql.functions import udf\n",
    "from pyspark.sql import Window\n",
    "from pyspark.sql import functions as F\n",
    "from pyspark.sql.functions import sum as Fsum\n",
    "from pyspark.sql.types import ArrayType, BooleanType, LongType, FloatType, IntegerType\n",
    "from pyspark.sql.functions import lit, udf, struct, countDistinct, collect_list, avg, count, col\n",
    "from pyspark.ml.feature import VectorAssembler, Normalizer, StandardScaler\n",
    "from pyspark.ml.classification import LogisticRegression, RandomForestClassifier, GBTClassifier\n",
    "from pyspark.ml.evaluation import MulticlassClassificationEvaluator, BinaryClassificationEvaluator\n",
    "from pyspark.ml import Pipeline\n",
    "import matplotlib.pyplot as plt\n",
    "from sklearn.metrics import roc_curve\n",
    "from sklearn.metrics import precision_recall_curve\n",
    "from pyspark.ml.tuning import CrossValidator, ParamGridBuilder"
   ]
  },
  {
   "cell_type": "code",
   "execution_count": 2,
   "metadata": {},
   "outputs": [
    {
     "data": {
      "application/vnd.jupyter.widget-view+json": {
       "model_id": "8e0d171212b645adb81384b3024deb92",
       "version_major": 2,
       "version_minor": 0
      },
      "text/plain": [
       "VBox()"
      ]
     },
     "metadata": {},
     "output_type": "display_data"
    },
    {
     "data": {
      "application/vnd.jupyter.widget-view+json": {
       "model_id": "",
       "version_major": 2,
       "version_minor": 0
      },
      "text/plain": [
       "FloatProgress(value=0.0, bar_style='info', description='Progress:', layout=Layout(height='25px', width='50%'),…"
      ]
     },
     "metadata": {},
     "output_type": "display_data"
    }
   ],
   "source": [
    "# Make a Spark session\n",
    "spark = SparkSession \\\n",
    "    .builder \\\n",
    "    .appName(\"Sparkify_Project\") \\\n",
    "    .getOrCreate()"
   ]
  },
  {
   "cell_type": "code",
   "execution_count": 3,
   "metadata": {},
   "outputs": [
    {
     "data": {
      "application/vnd.jupyter.widget-view+json": {
       "model_id": "fa22edf8cec44962a4eba23bb0bf23e3",
       "version_major": 2,
       "version_minor": 0
      },
      "text/plain": [
       "VBox()"
      ]
     },
     "metadata": {},
     "output_type": "display_data"
    },
    {
     "data": {
      "application/vnd.jupyter.widget-view+json": {
       "model_id": "",
       "version_major": 2,
       "version_minor": 0
      },
      "text/plain": [
       "FloatProgress(value=0.0, bar_style='info', description='Progress:', layout=Layout(height='25px', width='50%'),…"
      ]
     },
     "metadata": {},
     "output_type": "display_data"
    }
   ],
   "source": [
    "# Loading the Data Set\n",
    "\n",
    "df = \"s3n://udacity-dsnd/sparkify/sparkify_event_data.json\"\n",
    "df = spark.read.json(df)\n",
    "\n",
    "# Cleaning the Dataset\n",
    "df = df.drop(*['artist','song','firstName', 'lastName', 'id_copy'])             # dropping some irrelevant columns\n",
    "df = df.dropna(how = 'any', subset = ['userId', 'sessionId'])                   # droppping some potential NA values\n",
    "df = df.filter(df.userId!='').orderBy([\"userId\", \"ts\"], ascending=[True, True]) # filtering out the invalid Ids\n",
    "df = df.withColumn(\"userId\", df[\"userId\"].cast(IntegerType()))                  # case userId column to integer\n",
    " "
   ]
  },
  {
   "cell_type": "code",
   "execution_count": 4,
   "metadata": {},
   "outputs": [
    {
     "data": {
      "application/vnd.jupyter.widget-view+json": {
       "model_id": "b29c012175e14d8ca285d6bab0350dbe",
       "version_major": 2,
       "version_minor": 0
      },
      "text/plain": [
       "VBox()"
      ]
     },
     "metadata": {},
     "output_type": "display_data"
    },
    {
     "data": {
      "application/vnd.jupyter.widget-view+json": {
       "model_id": "",
       "version_major": 2,
       "version_minor": 0
      },
      "text/plain": [
       "FloatProgress(value=0.0, bar_style='info', description='Progress:', layout=Layout(height='25px', width='50%'),…"
      ]
     },
     "metadata": {},
     "output_type": "display_data"
    }
   ],
   "source": [
    "# Defining the Churn\n",
    "# These are Customers landing on the Cancellation Confirmation page\n",
    "cancelation = udf(lambda x: 1 if x == \"Cancellation Confirmation\" else 0, IntegerType())  \n",
    "df = df.withColumn(\"churn\", cancelation(\"page\"))\n",
    "window = Window.partitionBy(\"userId\").rangeBetween(Window.unboundedPreceding, Window.unboundedFollowing)\n",
    "df = df.withColumn(\"churn\", Fsum(\"churn\").over(window))\n",
    "\n",
    "\n",
    "##Some new columns were made in this step to make the data exploration easier, the Feature engineering step comes later\n",
    "\n",
    "# Making the level_shift Column\n",
    "# This column tells us how many times did the customer switched from paid to free service\n",
    "window1 = Window.partitionBy().orderBy([\"userId\", \"ts\"])\n",
    "df = df.withColumn(\"level_shift\", (df.level!=F.lag(df.level).over(window1)) | (df.userId!=F.lag(df.userId).over(window1)))\n",
    "df=df.fillna({'level_shift':0})\n",
    "df= df.withColumn(\"level_shift\", F.when(df[\"level_shift\"]==False, 0).otherwise(1))\n",
    "\n",
    "\n",
    "# Making the last_ts column\n",
    "# This column will help us to select only records that happened in the last 2 weeks of customer activity\n",
    "# The idea is that customer behavior should be different shortly before the churn happened\n",
    "\n",
    "df= df.withColumn(\"ts\", df.ts/1000)                        # trimming the last three zeros from the UNIX time (miliseconds)\n",
    "df= df.withColumn(\"registration\", df.registration/1000)\n",
    "\n",
    "window2 = Window.partitionBy(\"userId\")\n",
    "df= df.withColumn(\"last_ts\", F.max('ts').over(window2))\n",
    "df=df.filter(df.last_ts - df.ts < 1300000) #2592000         # this is the approx number of seconds in a 2 week period\n",
    "\n",
    "\n",
    "# Making the Columns: pages_per_session, diff_time\n",
    "# pages_per_session is number of pages per session\n",
    "# diff_time is a number of days since a specific page was visited\n",
    "\n",
    "window3 = Window.partitionBy([\"userId\", \"sessionId\"])\n",
    "df= df.withColumn(\"pages_per_session\", F.max('ItemInSession').over(window3))\n",
    "df = df.withColumn(\"ts_time\",F.to_timestamp(df.ts))                    #  unix to datetime\n",
    "df = df.withColumn(\"last_ts_time\",F.to_timestamp(df.last_ts))          # unix to datetime\n",
    "\n",
    "df = df.withColumn(\"diff_time\",F.datediff(df.last_ts_time, df.ts_time))  # how many days ago was the page visited\n",
    "\n",
    "df=df.orderBy([\"userId\", \"ts\"], ascending=[True, True])\n",
    "\n",
    "df.createOrReplaceTempView('data');                                    # Create a Temp Table to be used foe SQL queries"
   ]
  },
  {
   "cell_type": "code",
   "execution_count": 5,
   "metadata": {},
   "outputs": [
    {
     "data": {
      "application/vnd.jupyter.widget-view+json": {
       "model_id": "199af65a75eb40838334b5fbad96ea0a",
       "version_major": 2,
       "version_minor": 0
      },
      "text/plain": [
       "VBox()"
      ]
     },
     "metadata": {},
     "output_type": "display_data"
    },
    {
     "data": {
      "application/vnd.jupyter.widget-view+json": {
       "model_id": "",
       "version_major": 2,
       "version_minor": 0
      },
      "text/plain": [
       "FloatProgress(value=0.0, bar_style='info', description='Progress:', layout=Layout(height='25px', width='50%'),…"
      ]
     },
     "metadata": {},
     "output_type": "display_data"
    },
    {
     "name": "stdout",
     "output_type": "stream",
     "text": [
      "        auth gender  ...        last_ts_time  diff_time\n",
      "0  Logged In      M  ... 2018-10-18 20:33:05         15\n",
      "1  Logged In      M  ... 2018-10-18 20:33:05         15\n",
      "\n",
      "[2 rows x 21 columns]"
     ]
    }
   ],
   "source": [
    "# Data preview\n",
    "\n",
    "df.limit(2).toPandas()"
   ]
  },
  {
   "cell_type": "code",
   "execution_count": 6,
   "metadata": {},
   "outputs": [
    {
     "data": {
      "application/vnd.jupyter.widget-view+json": {
       "model_id": "68aa60bb896b49e3b0b73793118c23d8",
       "version_major": 2,
       "version_minor": 0
      },
      "text/plain": [
       "VBox()"
      ]
     },
     "metadata": {},
     "output_type": "display_data"
    },
    {
     "data": {
      "application/vnd.jupyter.widget-view+json": {
       "model_id": "",
       "version_major": 2,
       "version_minor": 0
      },
      "text/plain": [
       "FloatProgress(value=0.0, bar_style='info', description='Progress:', layout=Layout(height='25px', width='50%'),…"
      ]
     },
     "metadata": {},
     "output_type": "display_data"
    },
    {
     "name": "stdout",
     "output_type": "stream",
     "text": [
      "+--------------------+-----------+\n",
      "|                page|count(page)|\n",
      "+--------------------+-----------+\n",
      "|              Cancel|       5003|\n",
      "|    Submit Downgrade|       2450|\n",
      "|         Thumbs Down|      89370|\n",
      "|                Home|     425269|\n",
      "|           Downgrade|      73782|\n",
      "|         Roll Advert|     125746|\n",
      "|              Logout|     106746|\n",
      "|       Save Settings|      10755|\n",
      "|Cancellation Conf...|       5003|\n",
      "|               About|      27272|\n",
      "| Submit Registration|         98|\n",
      "|            Settings|      54420|\n",
      "|               Login|      63666|\n",
      "|            Register|        208|\n",
      "|     Add to Playlist|     221047|\n",
      "|          Add Friend|     139143|\n",
      "|            NextSong|    7709280|\n",
      "|           Thumbs Up|     418797|\n",
      "|                Help|      52636|\n",
      "|             Upgrade|      15173|\n",
      "+--------------------+-----------+\n",
      "only showing top 20 rows"
     ]
    }
   ],
   "source": [
    "# The column \"page\" seems to be most informative in the whole dataset\n",
    "# It shows which pages of the service were visited by users, timestamp is also provided\n",
    "# This column can be used to engineer useful features\n",
    "\n",
    "df.select('page','UserId').groupby('page').agg({'page':'count'}).select('page','count(page)').show()"
   ]
  },
  {
   "cell_type": "code",
   "execution_count": 7,
   "metadata": {},
   "outputs": [
    {
     "data": {
      "application/vnd.jupyter.widget-view+json": {
       "model_id": "5dfe64c482df4ed98ce0b211ef98d2a3",
       "version_major": 2,
       "version_minor": 0
      },
      "text/plain": [
       "VBox()"
      ]
     },
     "metadata": {},
     "output_type": "display_data"
    },
    {
     "data": {
      "application/vnd.jupyter.widget-view+json": {
       "model_id": "",
       "version_major": 2,
       "version_minor": 0
      },
      "text/plain": [
       "FloatProgress(value=0.0, bar_style='info', description='Progress:', layout=Layout(height='25px', width='50%'),…"
      ]
     },
     "metadata": {},
     "output_type": "display_data"
    },
    {
     "name": "stdout",
     "output_type": "stream",
     "text": [
      "root\n",
      " |-- auth: string (nullable = true)\n",
      " |-- gender: string (nullable = true)\n",
      " |-- itemInSession: long (nullable = true)\n",
      " |-- length: double (nullable = true)\n",
      " |-- level: string (nullable = true)\n",
      " |-- location: string (nullable = true)\n",
      " |-- method: string (nullable = true)\n",
      " |-- page: string (nullable = true)\n",
      " |-- registration: double (nullable = true)\n",
      " |-- sessionId: long (nullable = true)\n",
      " |-- status: long (nullable = true)\n",
      " |-- ts: double (nullable = true)\n",
      " |-- userAgent: string (nullable = true)\n",
      " |-- userId: integer (nullable = true)\n",
      " |-- churn: long (nullable = true)\n",
      " |-- level_shift: integer (nullable = false)\n",
      " |-- last_ts: double (nullable = true)\n",
      " |-- pages_per_session: long (nullable = true)\n",
      " |-- ts_time: timestamp (nullable = true)\n",
      " |-- last_ts_time: timestamp (nullable = true)\n",
      " |-- diff_time: integer (nullable = true)"
     ]
    }
   ],
   "source": [
    "df.printSchema();"
   ]
  },
  {
   "cell_type": "code",
   "execution_count": 8,
   "metadata": {},
   "outputs": [
    {
     "data": {
      "application/vnd.jupyter.widget-view+json": {
       "model_id": "8c4a821c8e524980a538b3621385150b",
       "version_major": 2,
       "version_minor": 0
      },
      "text/plain": [
       "VBox()"
      ]
     },
     "metadata": {},
     "output_type": "display_data"
    },
    {
     "data": {
      "application/vnd.jupyter.widget-view+json": {
       "model_id": "",
       "version_major": 2,
       "version_minor": 0
      },
      "text/plain": [
       "FloatProgress(value=0.0, bar_style='info', description='Progress:', layout=Layout(height='25px', width='50%'),…"
      ]
     },
     "metadata": {},
     "output_type": "display_data"
    },
    {
     "name": "stdout",
     "output_type": "stream",
     "text": [
      "   label    cnt  song_count  ...   duration  level_shift     usage_time\n",
      "0      0  17275  311.459103  ...  89.085637     2.723647   77847.838987\n",
      "1      1   5003  465.485509  ...  63.718817     0.896462  115792.603501\n",
      "\n",
      "[2 rows x 15 columns]"
     ]
    }
   ],
   "source": [
    "# Investigation if there are differences between churned and non-churned users\n",
    "\n",
    "# label             - 0 if non_churned, 1 if churned\n",
    "# song_count        - avg number of songs played by churned/non_churned users\n",
    "# error             - avg number of errors occuring \n",
    "# friends           - avg number of \"friends\" on thhe application\n",
    "# playlist_count    - avg number of visits to the Playlist page\n",
    "# thumbs_up         - avg number of clicking the 'thumbs up'\n",
    "# thumbs_down       - avg number of clicking the 'thumbs down'\n",
    "# downgrade         - avg number of visits to the downgrade page\n",
    "# count_session_dist- avg number of sessions made\n",
    "# count_diff_time   - avg number of days (in the last two weeks) in which the user used the app\n",
    "# pages per session - avg numbers of pages (or any activity or changes) per session\n",
    "# duration          - avg number of days since the user joined (division with 86400 as a proxy of seconds within a day)\n",
    "# level_shift       - avg number of level changes (free, paid) per customer\n",
    "# usage_time        - avg total time spent using the app\n",
    "\n",
    "\n",
    "stats = spark.sql(\" WITH prep as( \\\n",
    "SELECT userId, \\\n",
    "max(churn)                                                          as label, \\\n",
    "count(case when page = 'NextSong' then userId else null end)        as song_count, \\\n",
    "count(case when page = 'Error' then userId else null end)           as error, \\\n",
    "count(case when page = 'Add Friend' then userId else null end)      as friends, \\\n",
    "count(case when page = 'Add to Playlist' then userId else null end) as playlist_count, \\\n",
    "count(case when page = 'Thumbs Up' then userId else null end)       as thumbs_up, \\\n",
    "count(case when page = 'Thumbs Down' then userId else null end)     as thumbs_down, \\\n",
    "count(case when page = 'Downgrade' then userId else null end)       as downgrade, \\\n",
    "count(distinct sessionId)                                           as count_session_dist, \\\n",
    "count(distinct diff_time)                                           as count_diff_time, \\\n",
    "avg(distinct pages_per_session)                                     as pages_per_session, \\\n",
    "(max(ts) - min(registration))/86400                                 as duration, \\\n",
    "sum(level_shift)                                                    as level_shift, \\\n",
    "sum(length)                                                         as usage_time \\\n",
    "FROM data \\\n",
    "GROUP BY userId) \\\n",
    "SELECT label, \\\n",
    "count(label)             as cnt, \\\n",
    "avg(song_count)          as song_count, \\\n",
    "avg(error)               as error, \\\n",
    "avg(friends)             as friends, \\\n",
    "avg(playlist_count)      as playlist_count, \\\n",
    "avg(thumbs_up)           as thumbs_up, \\\n",
    "avg(thumbs_down)         as thumbs_down, \\\n",
    "avg(downgrade)           as downgrade, \\\n",
    "avg(count_session_dist)  as count_session_dist, \\\n",
    "avg(count_diff_time)     as count_diff_time, \\\n",
    "avg(pages_per_session)   as pages_per_session, \\\n",
    "avg(duration)            as duration, \\\n",
    "avg (level_shift)        as level_shift, \\\n",
    "avg(usage_time)          as usage_time \\\n",
    "FROM prep \\\n",
    "GROUP BY label\")\n",
    "\n",
    "# We can see that for most dimensions/features there are differences between churned and non-churned users\n",
    "stats.toPandas()"
   ]
  },
  {
   "cell_type": "code",
   "execution_count": 9,
   "metadata": {},
   "outputs": [
    {
     "data": {
      "application/vnd.jupyter.widget-view+json": {
       "model_id": "9aa6ffe8a97b470a8968e676c41cd43a",
       "version_major": 2,
       "version_minor": 0
      },
      "text/plain": [
       "VBox()"
      ]
     },
     "metadata": {},
     "output_type": "display_data"
    },
    {
     "data": {
      "application/vnd.jupyter.widget-view+json": {
       "model_id": "",
       "version_major": 2,
       "version_minor": 0
      },
      "text/plain": [
       "FloatProgress(value=0.0, bar_style='info', description='Progress:', layout=Layout(height='25px', width='50%'),…"
      ]
     },
     "metadata": {},
     "output_type": "display_data"
    }
   ],
   "source": [
    "# Feature Enigneering\n",
    "\n",
    "# Based on the previous analysis, all 14 investigated features will be included. \n",
    "# Here I am making a Temp Table which holds all the features.\n",
    "# The temp table will be used as model input\n",
    "# All data is aggregated per userId\n",
    "\n",
    "\n",
    "features = spark.sql(\"SELECT userId, \\\n",
    "max(churn)                                                          as label, \\\n",
    "count(case when page = 'NextSong' then userId else null end)        as song_count, \\\n",
    "count(case when page = 'Error' then userId else null end)           as error, \\\n",
    "count(case when page = 'Add Friend' then userId else null end)      as friends, \\\n",
    "count(case when page = 'Add to Playlist' then userId else null end) as playlist_count, \\\n",
    "count(case when page = 'Thumbs Up' then userId else null end)       as thumbs_up, \\\n",
    "count(case when page = 'Thumbs Down' then userId else null end)     as thumbs_down, \\\n",
    "count(case when page = 'Downgrade' then userId else null end)       as downgrade, \\\n",
    "count(distinct sessionId)                                           as count_session_dist, \\\n",
    "count(distinct diff_time)                                           as count_diff_time, \\\n",
    "round(avg(distinct pages_per_session),0)                                     as pages_per_session, \\\n",
    "round((max(ts) - min(registration))/86400,0)                                as duration, \\\n",
    "round(sum(level_shift),0)                                                  as level_shift, \\\n",
    "round(sum(length),0)                                                         as usage_time \\\n",
    "FROM data \\\n",
    "GROUP BY userId\");\n",
    "\n",
    "features.createOrReplaceTempView('features');\n",
    "features=features.na.drop() # clean potential NaNs\n"
   ]
  },
  {
   "cell_type": "markdown",
   "metadata": {},
   "source": [
    "#### Models"
   ]
  },
  {
   "cell_type": "code",
   "execution_count": 10,
   "metadata": {},
   "outputs": [
    {
     "data": {
      "application/vnd.jupyter.widget-view+json": {
       "model_id": "cee2ee22ea434a50b191911befcd83d2",
       "version_major": 2,
       "version_minor": 0
      },
      "text/plain": [
       "VBox()"
      ]
     },
     "metadata": {},
     "output_type": "display_data"
    },
    {
     "data": {
      "application/vnd.jupyter.widget-view+json": {
       "model_id": "",
       "version_major": 2,
       "version_minor": 0
      },
      "text/plain": [
       "FloatProgress(value=0.0, bar_style='info', description='Progress:', layout=Layout(height='25px', width='50%'),…"
      ]
     },
     "metadata": {},
     "output_type": "display_data"
    }
   ],
   "source": [
    "\n",
    "# Train Test Split\n",
    "training, test = features.randomSplit([0.8, 0.2])\n",
    "\n",
    "\n",
    "# Make VectorAssembler - this is a Pypark specific step\n",
    "# All input features must be in one column before feeding into the model\n",
    "\n",
    "assembler = VectorAssembler(inputCols=[\"userId\",\"song_count\",\"error\",\"friends\",\"playlist_count\", \\\n",
    "                                       \"thumbs_up\",\"thumbs_down\",\"downgrade\", \"count_session_dist\",\\\n",
    "                                       \"count_diff_time\",\"pages_per_session\", \"duration\",\"level_shift\",\\\n",
    "                                       \"usage_time\"], \\\n",
    "                            outputCol=\"inputFeatures\")\n",
    "\n",
    "\n",
    "\n",
    "# Normalize Data\n",
    "scaler = Normalizer(inputCol=\"inputFeatures\", outputCol=\"features\")\n",
    "\n",
    "\n",
    "# Spark supports most common classification methods (https://spark.apache.org/docs/latest/ml-classification-regression.html)\n",
    "# I decided for the following three:\n",
    "\n",
    "lr=LogisticRegression()\n",
    "gbt = GBTClassifier()\n",
    "rf= RandomForestClassifier()\n",
    "\n",
    "\n",
    "# Building pipelines\n",
    "pipeline1=Pipeline(stages=[assembler, scaler, lr])\n",
    "pipeline2=Pipeline(stages=[assembler, scaler, gbt])\n",
    "pipeline3=Pipeline(stages=[assembler, scaler, rf])"
   ]
  },
  {
   "cell_type": "markdown",
   "metadata": {},
   "source": [
    "#### Logistic Regression"
   ]
  },
  {
   "cell_type": "code",
   "execution_count": 11,
   "metadata": {},
   "outputs": [
    {
     "data": {
      "application/vnd.jupyter.widget-view+json": {
       "model_id": "fba2af22777d4f988ebb6a05fa42a6a3",
       "version_major": 2,
       "version_minor": 0
      },
      "text/plain": [
       "VBox()"
      ]
     },
     "metadata": {},
     "output_type": "display_data"
    },
    {
     "data": {
      "application/vnd.jupyter.widget-view+json": {
       "model_id": "",
       "version_major": 2,
       "version_minor": 0
      },
      "text/plain": [
       "FloatProgress(value=0.0, bar_style='info', description='Progress:', layout=Layout(height='25px', width='50%'),…"
      ]
     },
     "metadata": {},
     "output_type": "display_data"
    },
    {
     "name": "stdout",
     "output_type": "stream",
     "text": [
      "0.692604902830179"
     ]
    }
   ],
   "source": [
    "# metric chosen is f1 (we want to catch true positives (churn customers), but\n",
    "# we do not want to waste money on false positives (investing in retaining non-churn customers, which are loyal anyway)\n",
    "# Note that Recall might also be justified to use here (if the cost of false positives is low)\n",
    "\n",
    "\n",
    "paramgrid =ParamGridBuilder()\\\n",
    ".addGrid(lr.regParam, [0.0, 0,1])\\\n",
    ".addGrid(lr.maxIter, [10])\\\n",
    ".build()\n",
    "\n",
    "\n",
    "evaluator=MulticlassClassificationEvaluator(metricName=\"f1\")\n",
    "#evaluator=BinaryClassificationEvaluator( metricName=\"areaUnderROC\")\n",
    "\n",
    "# Crossvalidator (https://spark.apache.org/docs/2.1.3/api/python/_modules/pyspark/ml/tuning.html)\n",
    "\n",
    "crossval= CrossValidator(estimator=pipeline1,  \n",
    "                         estimatorParamMaps=paramgrid,\n",
    "                         evaluator = evaluator , \n",
    "                         numFolds=3\n",
    "                        )\n",
    "\n",
    "cvModel1=crossval.fit(training) \n",
    "evaluator.evaluate(cvModel1.transform(test))\n",
    "\n",
    "#cvModel1.subModels() \n",
    "#cvModel1.avgMetrics"
   ]
  },
  {
   "cell_type": "markdown",
   "metadata": {},
   "source": [
    "#### Gradient Boosted Tree Classifier"
   ]
  },
  {
   "cell_type": "code",
   "execution_count": 12,
   "metadata": {},
   "outputs": [
    {
     "data": {
      "application/vnd.jupyter.widget-view+json": {
       "model_id": "9911a0b1a7aa42f0a3ba6753f52cd616",
       "version_major": 2,
       "version_minor": 0
      },
      "text/plain": [
       "VBox()"
      ]
     },
     "metadata": {},
     "output_type": "display_data"
    },
    {
     "data": {
      "application/vnd.jupyter.widget-view+json": {
       "model_id": "",
       "version_major": 2,
       "version_minor": 0
      },
      "text/plain": [
       "FloatProgress(value=0.0, bar_style='info', description='Progress:', layout=Layout(height='25px', width='50%'),…"
      ]
     },
     "metadata": {},
     "output_type": "display_data"
    },
    {
     "name": "stderr",
     "output_type": "stream",
     "text": [
      "Exception in thread cell_monitor-12:\n",
      "Traceback (most recent call last):\n",
      "  File \"/opt/conda/lib/python3.7/threading.py\", line 917, in _bootstrap_inner\n",
      "    self.run()\n",
      "  File \"/opt/conda/lib/python3.7/threading.py\", line 865, in run\n",
      "    self._target(*self._args, **self._kwargs)\n",
      "  File \"/opt/conda/lib/python3.7/site-packages/awseditorssparkmonitoringwidget-1.0-py3.7.egg/awseditorssparkmonitoringwidget/cellmonitor.py\", line 178, in cell_monitor\n",
      "    job_binned_stages[job_id][stage_id] = all_stages[stage_id]\n",
      "KeyError: 2577\n",
      "\n"
     ]
    },
    {
     "name": "stdout",
     "output_type": "stream",
     "text": [
      "0.8156833657006172"
     ]
    }
   ],
   "source": [
    "\n",
    "\n",
    "# Specify multiple parameters in the paramgrid, in case you have enough processing power \n",
    "paramgrid1 =ParamGridBuilder()\\\n",
    ".build()\n",
    "\n",
    "evaluator=MulticlassClassificationEvaluator(metricName=\"f1\")\n",
    "\n",
    "crossval= CrossValidator(estimator=pipeline2,  \n",
    "                         estimatorParamMaps=paramgrid1,\n",
    "                         evaluator=evaluator, \n",
    "                         numFolds=3\n",
    "                        )\n",
    "\n",
    "cvModel2=crossval.fit(training) \n",
    "evaluator.evaluate(cvModel2.transform(test))"
   ]
  },
  {
   "cell_type": "markdown",
   "metadata": {},
   "source": [
    "#### Random Forest"
   ]
  },
  {
   "cell_type": "code",
   "execution_count": 13,
   "metadata": {},
   "outputs": [
    {
     "data": {
      "application/vnd.jupyter.widget-view+json": {
       "model_id": "759bc841d7d04f2fb67bee68705afa38",
       "version_major": 2,
       "version_minor": 0
      },
      "text/plain": [
       "VBox()"
      ]
     },
     "metadata": {},
     "output_type": "display_data"
    },
    {
     "data": {
      "application/vnd.jupyter.widget-view+json": {
       "model_id": "",
       "version_major": 2,
       "version_minor": 0
      },
      "text/plain": [
       "FloatProgress(value=0.0, bar_style='info', description='Progress:', layout=Layout(height='25px', width='50%'),…"
      ]
     },
     "metadata": {},
     "output_type": "display_data"
    },
    {
     "name": "stderr",
     "output_type": "stream",
     "text": [
      "Exception in thread cell_monitor-13:\n",
      "Traceback (most recent call last):\n",
      "  File \"/opt/conda/lib/python3.7/threading.py\", line 917, in _bootstrap_inner\n",
      "    self.run()\n",
      "  File \"/opt/conda/lib/python3.7/threading.py\", line 865, in run\n",
      "    self._target(*self._args, **self._kwargs)\n",
      "  File \"/opt/conda/lib/python3.7/site-packages/awseditorssparkmonitoringwidget-1.0-py3.7.egg/awseditorssparkmonitoringwidget/cellmonitor.py\", line 178, in cell_monitor\n",
      "    job_binned_stages[job_id][stage_id] = all_stages[stage_id]\n",
      "KeyError: 6095\n",
      "\n"
     ]
    },
    {
     "name": "stdout",
     "output_type": "stream",
     "text": [
      "0.8032541507889631"
     ]
    }
   ],
   "source": [
    "\n",
    "# Specify multiple parameters in the paramgrid, in case you have enough processing power\n",
    "paramgrid2 =ParamGridBuilder()\\\n",
    ".build()\n",
    "\n",
    "evaluator=MulticlassClassificationEvaluator(metricName=\"f1\")\n",
    "#evaluator=BinaryClassificationEvaluator( metricName=\"areaUnderROC\")\n",
    "\n",
    "crossval= CrossValidator(estimator=pipeline3,  \n",
    "                         estimatorParamMaps=paramgrid2,\n",
    "                         evaluator=evaluator, \n",
    "                         numFolds=3\n",
    "                        )\n",
    "\n",
    "cvModel3=crossval.fit(training) \n",
    "evaluator.evaluate(cvModel3.transform(test))"
   ]
  },
  {
   "cell_type": "code",
   "execution_count": 14,
   "metadata": {},
   "outputs": [
    {
     "data": {
      "application/vnd.jupyter.widget-view+json": {
       "model_id": "e1f1eff08cd743d388d29fd4f5287b10",
       "version_major": 2,
       "version_minor": 0
      },
      "text/plain": [
       "VBox()"
      ]
     },
     "metadata": {},
     "output_type": "display_data"
    },
    {
     "data": {
      "application/vnd.jupyter.widget-view+json": {
       "model_id": "",
       "version_major": 2,
       "version_minor": 0
      },
      "text/plain": [
       "FloatProgress(value=0.0, bar_style='info', description='Progress:', layout=Layout(height='25px', width='50%'),…"
      ]
     },
     "metadata": {},
     "output_type": "display_data"
    }
   ],
   "source": [
    "predictions=cvModel2.transform(test)\n",
    "#predictions.limit(2).toPandas()"
   ]
  },
  {
   "cell_type": "markdown",
   "metadata": {},
   "source": [
    "#### Visualisations"
   ]
  },
  {
   "cell_type": "code",
   "execution_count": 15,
   "metadata": {},
   "outputs": [
    {
     "data": {
      "application/vnd.jupyter.widget-view+json": {
       "model_id": "78ab51cbeb1547c4a965610a1f2fd0e7",
       "version_major": 2,
       "version_minor": 0
      },
      "text/plain": [
       "VBox()"
      ]
     },
     "metadata": {},
     "output_type": "display_data"
    },
    {
     "data": {
      "application/vnd.jupyter.widget-view+json": {
       "model_id": "",
       "version_major": 2,
       "version_minor": 0
      },
      "text/plain": [
       "FloatProgress(value=0.0, bar_style='info', description='Progress:', layout=Layout(height='25px', width='50%'),…"
      ]
     },
     "metadata": {},
     "output_type": "display_data"
    },
    {
     "data": {
      "image/png": "[encoded data removed]",
      "text/plain": [
       "<IPython.core.display.Image object>"
      ]
     },
     "metadata": {},
     "output_type": "display_data"
    }
   ],
   "source": [
    "# Gradient Boosted Tree Classifier seems to be the winner model, let us plot its Precision-Recall Curve\n",
    " \n",
    "\n",
    "def pr(ax, predictions, labels, title='Precision-Recall curve'):\n",
    "    ''' outputs the roc curve on ax axes'''\n",
    "    prediction_prob = predictions.toPandas()['probability'].apply(lambda x:x[1]).values\n",
    "    pr, rc, _ = precision_recall_curve(labels, prediction_prob)\n",
    "    ax.plot(pr, rc)\n",
    "    ax.set_facecolor('xkcd:wheat')\n",
    "    ax.set_xlabel('Recall Rate')\n",
    "    ax.set_ylabel('Precision Rate')\n",
    "    ax.set_title(title)\n",
    "   \n",
    "\n",
    "plt.clf()\n",
    "\n",
    "labels=predictions.toPandas()['label']\n",
    "fig = plt.figure()\n",
    "ax = fig.add_subplot(111)\n",
    "pr(ax, predictions,labels)\n",
    "%matplot plt"
   ]
  },
  {
   "cell_type": "code",
   "execution_count": 16,
   "metadata": {},
   "outputs": [
    {
     "data": {
      "application/vnd.jupyter.widget-view+json": {
       "model_id": "978f2f471d2a426393e323290913b8df",
       "version_major": 2,
       "version_minor": 0
      },
      "text/plain": [
       "VBox()"
      ]
     },
     "metadata": {},
     "output_type": "display_data"
    },
    {
     "data": {
      "application/vnd.jupyter.widget-view+json": {
       "model_id": "",
       "version_major": 2,
       "version_minor": 0
      },
      "text/plain": [
       "FloatProgress(value=0.0, bar_style='info', description='Progress:', layout=Layout(height='25px', width='50%'),…"
      ]
     },
     "metadata": {},
     "output_type": "display_data"
    },
    {
     "data": {
      "image/png": "[encoded data removed]",
      "text/plain": [
       "<IPython.core.display.Image object>"
      ]
     },
     "metadata": {},
     "output_type": "display_data"
    }
   ],
   "source": [
    "# Gradient Boosted Tree Classifier seems to be the winner model, let us plot its ROC Curve\n",
    " \n",
    "\n",
    "def roc(ax, predictions, labels, title='ROC curve'):\n",
    "    ''' outputs the roc curve on ax axes'''\n",
    "    prediction_prob = predictions.toPandas()['probability'].apply(lambda x:x[1]).values\n",
    "    fpr, tpr, _ = roc_curve(labels, prediction_prob)\n",
    "    ax.plot(fpr, tpr)\n",
    "    ax.set_facecolor('xkcd:wheat')\n",
    "    ax.set_xlabel('False Positive Rate')\n",
    "    ax.set_ylabel('True Positive Rate')\n",
    "    ax.set_title(title)\n",
    "   \n",
    "\n",
    "plt.clf()\n",
    "\n",
    "labels=predictions.toPandas()['label']\n",
    "fig = plt.figure()\n",
    "ax = fig.add_subplot(111)\n",
    "roc(ax, predictions,labels)\n",
    "#plt.save_fig('lr_roc.png')\n",
    "%matplot plt"
   ]
  },
  {
   "cell_type": "code",
   "execution_count": null,
   "metadata": {},
   "outputs": [],
   "source": []
  }
 ],
 "metadata": {
  "kernelspec": {
   "display_name": "PySpark",
   "language": "",
   "name": "pysparkkernel"
  },
  "language_info": {
   "codemirror_mode": {
    "name": "python",
    "version": 2
   },
   "mimetype": "text/x-python",
   "name": "pyspark",
   "pygments_lexer": "python2"
  }
 },
 "nbformat": 4,
 "nbformat_minor": 2
}
